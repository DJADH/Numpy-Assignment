{
 "cells": [
  {
   "cell_type": "code",
   "execution_count": 2,
   "id": "5c097d41-15a6-481e-97a6-05f46064e111",
   "metadata": {},
   "outputs": [],
   "source": [
    "#1.What is python library? Why do you use python libraries?\n",
    "\n",
    "# Python Library is collection of functions. It is reusable and Optimized"
   ]
  },
  {
   "cell_type": "code",
   "execution_count": 3,
   "id": "3f9803c8-00d3-46e1-9e83-cd881fbda67e",
   "metadata": {},
   "outputs": [],
   "source": [
    "#2. What is difference between Numpy array and List?\n",
    "\n",
    "# Arrays are homogenous. It takes lesser time to retrieve data\n",
    "# List are heterogenous. It stores address of elements and not elements itself.\n"
   ]
  },
  {
   "cell_type": "code",
   "execution_count": 4,
   "id": "f9649e90-1421-4c50-9b1f-afa534289ffe",
   "metadata": {},
   "outputs": [],
   "source": [
    "#3. Find the shape, size and dimensions of the following array?\n",
    "import numpy as np\n",
    "arr = np.array([[1,2,3,4],\n",
    " [5,6,7,8],\n",
    " [9,10,11,12]])\n",
    "\n"
   ]
  },
  {
   "cell_type": "code",
   "execution_count": 5,
   "id": "9e81e290-461e-4d4b-87e4-8c8194ad810d",
   "metadata": {},
   "outputs": [
    {
     "data": {
      "text/plain": [
       "(3, 4)"
      ]
     },
     "execution_count": 5,
     "metadata": {},
     "output_type": "execute_result"
    }
   ],
   "source": [
    "arr.shape"
   ]
  },
  {
   "cell_type": "code",
   "execution_count": 6,
   "id": "73db0c35-9847-41ac-a050-55aa24700f57",
   "metadata": {},
   "outputs": [
    {
     "data": {
      "text/plain": [
       "2"
      ]
     },
     "execution_count": 6,
     "metadata": {},
     "output_type": "execute_result"
    }
   ],
   "source": [
    "arr.ndim"
   ]
  },
  {
   "cell_type": "code",
   "execution_count": 7,
   "id": "c7b09d4d-1099-42f7-a825-d5ddbdf87f2e",
   "metadata": {},
   "outputs": [
    {
     "data": {
      "text/plain": [
       "12"
      ]
     },
     "execution_count": 7,
     "metadata": {},
     "output_type": "execute_result"
    }
   ],
   "source": [
    "arr.size"
   ]
  },
  {
   "cell_type": "code",
   "execution_count": 8,
   "id": "fa036d29-508f-4f82-828b-3eb672f3a1d4",
   "metadata": {},
   "outputs": [
    {
     "data": {
      "text/plain": [
       "array([1, 2, 3, 4])"
      ]
     },
     "execution_count": 8,
     "metadata": {},
     "output_type": "execute_result"
    }
   ],
   "source": [
    "#4.Write python co^e to access the first row of the following array?\n",
    "arr = np.array([[1,2,3,4],\n",
    " [5,6,7,8],\n",
    " [9,10,11,12]])\n",
    "\n",
    "arr[0,:]\n"
   ]
  },
  {
   "cell_type": "code",
   "execution_count": 9,
   "id": "3269113e-b693-441e-8834-f391935520e0",
   "metadata": {},
   "outputs": [
    {
     "data": {
      "text/plain": [
       "12"
      ]
     },
     "execution_count": 9,
     "metadata": {},
     "output_type": "execute_result"
    }
   ],
   "source": [
    "#5. How ^o you access the element at the third row and fourth column from the given numpy array?\n",
    "\n",
    "arr = np.array([[1,2,3,4],\n",
    "               [5,6,7,8],\n",
    "               [9,10,11,12]])\n",
    "\n",
    "arr[2,3]"
   ]
  },
  {
   "cell_type": "code",
   "execution_count": 10,
   "id": "2d3d78da-4515-496d-96a0-06ea7ac0c743",
   "metadata": {},
   "outputs": [
    {
     "name": "stdout",
     "output_type": "stream",
     "text": [
      "1\n",
      "3\n",
      "5\n",
      "7\n",
      "9\n",
      "11\n"
     ]
    }
   ],
   "source": [
    "#6. Write code to extract all odd-indexed elements from the given numpy array?\n",
    "\n",
    "\n",
    "\n",
    "def oddnumber(arr):\n",
    "     \n",
    "    for i in (arr):\n",
    "        for j in i:\n",
    "            if j % 2 !=0:\n",
    "                print(j)\n",
    "                \n",
    "                \n",
    "arr = np.array([[1,2,3,4],\n",
    "               [5,6,7,8],\n",
    "               [9,10,11,12]])\n",
    "\n",
    "oddnumber(arr)\n",
    "\n"
   ]
  },
  {
   "cell_type": "code",
   "execution_count": 11,
   "id": "bcaf82d6-e2e6-44f4-b601-2563dc9f003a",
   "metadata": {},
   "outputs": [
    {
     "name": "stdout",
     "output_type": "stream",
     "text": [
      "[[0 1 1]\n",
      " [0 0 0]\n",
      " [0 0 0]]\n"
     ]
    }
   ],
   "source": [
    "#7. How can you generate a ran^om 3x3 matrix with values between 0 and 1?\n",
    "\n",
    "arr1 = np.random.randint(0,2,(3,3))\n",
    "\n",
    "print(arr1)"
   ]
  },
  {
   "cell_type": "code",
   "execution_count": 12,
   "id": "f29a65c7-a8a5-4def-aa3e-426d42c3d4a2",
   "metadata": {},
   "outputs": [],
   "source": [
    "#8. Describe the ^ifference between np.random.rand and np.random.randn?\n",
    "#And - The difference between rand and randn is that \"rand\" returns random numbers sampled from a uniform distribution over the interval [0,1), while randn return samples from a normal distribution with a mean of 0 and a variance of 1.\n"
   ]
  },
  {
   "cell_type": "code",
   "execution_count": 13,
   "id": "df8871ca-359d-49dd-948e-f5254d8d4934",
   "metadata": {},
   "outputs": [
    {
     "data": {
      "text/plain": [
       "array([[[ 1,  2,  3,  4],\n",
       "        [ 5,  6,  7,  8],\n",
       "        [ 9, 10, 11, 12]]])"
      ]
     },
     "execution_count": 13,
     "metadata": {},
     "output_type": "execute_result"
    }
   ],
   "source": [
    "#9.Write the code to increase the dimensions of the following array\n",
    "\n",
    "arr = np.array([[1,2,3,4],\n",
    "               [5,6,7,8],\n",
    "               [9,10,11,12]])\n",
    "\n",
    "np.expand_dims(arr,axis =0)\n"
   ]
  },
  {
   "cell_type": "code",
   "execution_count": 14,
   "id": "ec075aa4-091c-4a4d-9671-fa241835aaab",
   "metadata": {},
   "outputs": [
    {
     "data": {
      "text/plain": [
       "array([[ 1,  5,  9],\n",
       "       [ 2,  6, 10],\n",
       "       [ 3,  7, 11],\n",
       "       [ 4,  8, 12]])"
      ]
     },
     "execution_count": 14,
     "metadata": {},
     "output_type": "execute_result"
    }
   ],
   "source": [
    "#10.how to transpose followuing array in numpy\n",
    "\n",
    "arr = np.array([[1,2,3,4],\n",
    "               [5,6,7,8],\n",
    "               [9,10,11,12]])\n",
    "\n",
    "np.array(arr).T"
   ]
  },
  {
   "cell_type": "code",
   "execution_count": 15,
   "id": "28e73df7-828b-49d3-96c9-db6681e75d3f",
   "metadata": {},
   "outputs": [],
   "source": [
    "A = np.matrix([[1,2,3,4],\n",
    "               [5,6,7,8],\n",
    "               [9,10,11,12]])\n",
    "\n",
    "B = np.matrix([[1,2,3,4],\n",
    "               [5,6,7,8],\n",
    "               [9,10,11,12]])\n",
    "\n",
    "C = np.reshape(B,(4,3))"
   ]
  },
  {
   "cell_type": "code",
   "execution_count": 16,
   "id": "33e68598-fffa-4c56-aa85-85be9c72237a",
   "metadata": {},
   "outputs": [
    {
     "data": {
      "text/plain": [
       "matrix([[  1,   4,   9,  16],\n",
       "        [ 25,  36,  49,  64],\n",
       "        [ 81, 100, 121, 144]])"
      ]
     },
     "execution_count": 16,
     "metadata": {},
     "output_type": "execute_result"
    }
   ],
   "source": [
    "np.multiply(A,B)"
   ]
  },
  {
   "cell_type": "code",
   "execution_count": 17,
   "id": "bd5fda5e-89af-46ef-9ba7-90d12be6b715",
   "metadata": {},
   "outputs": [
    {
     "data": {
      "text/plain": [
       "matrix([[ 70,  80,  90],\n",
       "        [158, 184, 210],\n",
       "        [246, 288, 330]])"
      ]
     },
     "execution_count": 17,
     "metadata": {},
     "output_type": "execute_result"
    }
   ],
   "source": [
    "A @ C"
   ]
  },
  {
   "cell_type": "code",
   "execution_count": 18,
   "id": "13557a39-c78c-45f7-b051-014c4b02e70f",
   "metadata": {},
   "outputs": [
    {
     "data": {
      "text/plain": [
       "matrix([[ 2,  4,  6,  8],\n",
       "        [10, 12, 14, 16],\n",
       "        [18, 20, 22, 24]])"
      ]
     },
     "execution_count": 18,
     "metadata": {},
     "output_type": "execute_result"
    }
   ],
   "source": [
    "A + B"
   ]
  },
  {
   "cell_type": "code",
   "execution_count": 19,
   "id": "e5cd08f6-1bbe-4c89-91db-94779bbb8a84",
   "metadata": {},
   "outputs": [
    {
     "data": {
      "text/plain": [
       "matrix([[0, 0, 0, 0],\n",
       "        [0, 0, 0, 0],\n",
       "        [0, 0, 0, 0]])"
      ]
     },
     "execution_count": 19,
     "metadata": {},
     "output_type": "execute_result"
    }
   ],
   "source": [
    "A-B"
   ]
  },
  {
   "cell_type": "code",
   "execution_count": 20,
   "id": "e5fd18c7-64a6-48f2-a6ac-ebb117571f89",
   "metadata": {},
   "outputs": [
    {
     "data": {
      "text/plain": [
       "matrix([[1., 1., 1., 1.],\n",
       "        [1., 1., 1., 1.],\n",
       "        [1., 1., 1., 1.]])"
      ]
     },
     "execution_count": 20,
     "metadata": {},
     "output_type": "execute_result"
    }
   ],
   "source": [
    "B/A"
   ]
  },
  {
   "cell_type": "code",
   "execution_count": 21,
   "id": "c11c84e2-a1f3-4e64-95d7-b61177b8753a",
   "metadata": {},
   "outputs": [],
   "source": [
    "#12. Which function in numpy can be used to swap the byte order of an array?\n",
    "#Ans - .byteswap()"
   ]
  },
  {
   "cell_type": "code",
   "execution_count": 22,
   "id": "9bf1e386-f011-42eb-a55b-18c2189813df",
   "metadata": {},
   "outputs": [],
   "source": [
    "#13.What is the significance of np.linalg.inv function?\n",
    "#Ans - It is used to calculate inverse of the matrix \n"
   ]
  },
  {
   "cell_type": "code",
   "execution_count": 24,
   "id": "26a0481c-2e79-4fce-8f67-e162217d96b8",
   "metadata": {},
   "outputs": [
    {
     "data": {
      "text/plain": [
       "array([[ 1,  2,  3,  4,  5,  6],\n",
       "       [ 7,  8,  9, 10, 11, 12]])"
      ]
     },
     "execution_count": 24,
     "metadata": {},
     "output_type": "execute_result"
    }
   ],
   "source": [
    "#14. What does np.reshape function do, and how it is used?\n",
    "#Ans. np.reshape function shapes the array without chaning the data.\n",
    "\n",
    "\n",
    "arr = np.array([[1,2,3,4],\n",
    "               [5,6,7,8],\n",
    "               [9,10,11,12]])\n",
    "\n",
    "arr1 = np.reshape(arr,(2,6))\n",
    "\n",
    "arr1\n"
   ]
  },
  {
   "cell_type": "code",
   "execution_count": 25,
   "id": "cc18afac-9899-4c90-9430-bf3bda60b60d",
   "metadata": {},
   "outputs": [],
   "source": [
    "#15.What is broadcasting in numpy?\n",
    "#Ans . This allows us to perform mathematical operations on arrays of different shapes.An array with smaller shape is expanded to match shape of larger array."
   ]
  },
  {
   "cell_type": "code",
   "execution_count": null,
   "id": "beccd525-76c2-45c1-a55e-362c7fe9b7ad",
   "metadata": {},
   "outputs": [],
   "source": []
  }
 ],
 "metadata": {
  "kernelspec": {
   "display_name": "Python 3 (ipykernel)",
   "language": "python",
   "name": "python3"
  },
  "language_info": {
   "codemirror_mode": {
    "name": "ipython",
    "version": 3
   },
   "file_extension": ".py",
   "mimetype": "text/x-python",
   "name": "python",
   "nbconvert_exporter": "python",
   "pygments_lexer": "ipython3",
   "version": "3.10.8"
  }
 },
 "nbformat": 4,
 "nbformat_minor": 5
}
